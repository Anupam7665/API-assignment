{
 "cells": [
  {
   "cell_type": "markdown",
   "id": "fe9d3a84-d815-4fa8-810e-94b49b232d7f",
   "metadata": {},
   "source": [
    "### Q1. What is an API? Give an example, where an API is used in real life."
   ]
  },
  {
   "cell_type": "markdown",
   "id": "e20310d5-0f77-4ba8-b83f-faa6b54d37f9",
   "metadata": {},
   "source": [
    " An API (application programming interface) is like a bridge that allows different software to talk to each other. The software communicate under the set of protocols.It is like a messenger that differnt apps talk to each other and share information easily , even if they are made by using different progrmming langauge .By using API it can communicate with heterogenous as well as  homogenous application   \n",
    " \n",
    " for eg  when we use goggle to search any query so that google communicate with different-different server , to easily  communicate with server or where data is stored  he is using API for better result"
   ]
  },
  {
   "cell_type": "markdown",
   "id": "2fc3af8d-4457-49be-9cb7-8ba710fd749e",
   "metadata": {},
   "source": [
    "### Q2. Give advantages and disadvantages of using API."
   ]
  },
  {
   "cell_type": "markdown",
   "id": "03590d64-03ca-47ed-a7a4-678d1d2687c2",
   "metadata": {},
   "source": [
    " *Advantages of API*  :- By using API , we can build the app quickly. Apps can get popular without breaking.\n",
    "\n",
    "Using of API people can work together to make a better Apps.\n",
    "They save time by using tools other other have made\n",
    "\n",
    "Apps keep working even they have hidden parts.People who are good to know the different parts of API ,they can work also\n",
    "\n",
    "\n",
    "*Disadvantages of API* :- If an API has problen so that apps doesn't work properly.If API become slow , your app can become too slow.\n",
    "\n",
    "We can't decide when the part change ,and that might affect your app.New version of APIs could make your app stop working properly.\n",
    "\n",
    "Sometime We need to pay to use the best features of API.\n",
    "Sharing the data show the private stuff to others "
   ]
  },
  {
   "cell_type": "markdown",
   "id": "2603807d-7131-4dc4-b475-0dbc5fe87a68",
   "metadata": {},
   "source": [
    "### Q3. What is a Web API? Differentiate between API and Web API."
   ]
  },
  {
   "cell_type": "markdown",
   "id": "7d3c3204-360a-4938-bc99-94a7932b9dc6",
   "metadata": {},
   "source": [
    "Web API (web application performing interface) is a way let different software\n",
    "apps can communicate withe each other over the internet.To communicate with different apps they have follow some standardized protocols like HTTP\n",
    "They have sending and receiving information using a common way of communicating (like a web brower).\n",
    "\n",
    "An  API is like a set of rules that two app can communicate with each other.\n",
    "It helps them to work together by sharing them specific without telling each other\n",
    "\n",
    " A web API is a subset of API that app or websites can work over the internet\n",
    " It is like a share each information to each other online . Web API are acessed "
   ]
  },
  {
   "cell_type": "markdown",
   "id": "a257ccb9-a698-40de-b8ae-49079c0ec6a2",
   "metadata": {},
   "source": [
    "### Q4. Explain REST and SOAP Architecture. Mention shortcomings of SOAP."
   ]
  },
  {
   "cell_type": "markdown",
   "id": "9acb45b1-c6be-4119-9b99-094d52afe6d9",
   "metadata": {},
   "source": [
    "REST stands for Representational State Transfer.\n",
    "\n",
    "It is a set of gidelines that describe how web services should be designed and implemented.\n",
    "\n",
    "Rest is not a fixed protocol but it gives a style of web services that allows flexibility and simplicity.\n",
    "\n",
    "Rest can use different data format like HTML , JSON . It is use different method to access and modify data like GET , POST , PUT , DELETE.\n",
    "\n",
    "Rest are suitable for mobile application , development because they are lightweighted and easy to use . \n",
    "\n",
    "\n",
    "\n",
    "Soap stands for  Simple Object Access Protocol.\n",
    "\n",
    "It has standard protocol that define how web services should communicate and using XML based message . It has specific rules and format for exchange the mesage\n",
    "\n",
    "Soap uses only XML and it uses only GET and POST . \n",
    "\n",
    "Soap are generally preferable for enterprise scenarios which required high security like encryption and authentication . \n",
    "\n",
    "\n",
    "\n",
    "_Mention shortcomings of SOAP_\n",
    "\n",
    "\n",
    "Soap messsage are complex due to its XML foramt .It required more resource and time.\n",
    "\n",
    "It cannot handle by different data format or methods easily. It cannot store the result of previous request for faster retrival\n",
    "\n",
    "It has no security features which mean it get easily copy by other.It does keep the record of changes or update \n"
   ]
  },
  {
   "cell_type": "markdown",
   "id": "97591f23-0af3-40d5-8975-58491a94259e",
   "metadata": {},
   "source": [
    "### Q5. Differentiate between REST and SOAP."
   ]
  },
  {
   "cell_type": "markdown",
   "id": "356334d4-4796-4c71-9f09-9b35990e7ee4",
   "metadata": {},
   "source": [
    "Rest is like a sending a message on whatsapp quick , simple and flexible\n",
    "\n",
    "Soap is like sending a message through formal letters with specific instruction .More structure and rigid\n",
    "\n",
    "\n",
    "\n",
    "\n",
    "Rest uses HTTP protocol and its method like GET , POST , PUT , DELETE \n",
    "\n",
    "Soap has its own protocol and it is using  XML (extended markup language) for messages and can work with various transport method\n",
    "\n",
    "\n",
    "\n",
    "\n",
    "Rest is simple and easy to understand.\n",
    "\n",
    "Soap is more complex due to its complex structure and rules\n",
    "\n",
    "\n",
    "\n",
    "\n",
    "Error handling in Rest , mainly throgh status code\n",
    "\n",
    "Erro handling in Soap , mainly through standarized message\n",
    "\n",
    "\n",
    "\n",
    "\n",
    "It is best for simpler application web services\n",
    "\n",
    "It is best for enterprise level application who need more security"
   ]
  },
  {
   "cell_type": "code",
   "execution_count": null,
   "id": "91582f83-c8ca-4e61-866f-3a433de4271f",
   "metadata": {},
   "outputs": [],
   "source": []
  }
 ],
 "metadata": {
  "kernelspec": {
   "display_name": "Python 3 (ipykernel)",
   "language": "python",
   "name": "python3"
  },
  "language_info": {
   "codemirror_mode": {
    "name": "ipython",
    "version": 3
   },
   "file_extension": ".py",
   "mimetype": "text/x-python",
   "name": "python",
   "nbconvert_exporter": "python",
   "pygments_lexer": "ipython3",
   "version": "3.10.8"
  }
 },
 "nbformat": 4,
 "nbformat_minor": 5
}
